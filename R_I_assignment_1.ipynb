{
 "cells": [
  {
   "cell_type": "code",
   "execution_count": 1,
   "metadata": {
    "collapsed": true
   },
   "outputs": [],
   "source": [
    "import sqlite3"
   ]
  },
  {
   "cell_type": "code",
   "execution_count": 2,
   "metadata": {
    "collapsed": false
   },
   "outputs": [
    {
     "data": {
      "text/plain": [
       "u'C:\\\\Users\\\\darragh\\\\Documents\\\\Python workings'"
      ]
     },
     "execution_count": 2,
     "metadata": {},
     "output_type": "execute_result"
    }
   ],
   "source": [
    "pwd\n"
   ]
  },
  {
   "cell_type": "code",
   "execution_count": 3,
   "metadata": {
    "collapsed": false
   },
   "outputs": [
    {
     "name": "stdout",
     "output_type": "stream",
     "text": [
      "    long   lat  production trips  trip\n",
      "0  52.66  7.26      259696  None  None\n",
      "1  52.86  8.99       89499  None  None\n",
      "2  54.28  8.48      271650  None  None\n",
      "3  53.42  7.95       87606  None  None\n",
      "4  52.34  6.48      298978  None  None\n",
      "5  53.22  6.68      200068  None  None\n",
      "6  52.36  7.71       60573  None  None\n",
      "7  52.84  6.92      159794  None  None\n",
      "8  53.18  6.80      163358  None  None\n",
      "9  53.66  6.69      210817  None  None\n"
     ]
    }
   ],
   "source": [
    "conn = sqlite3.connect('renewable.db')# creates connection \n",
    "import pandas as pd \n",
    "locations = pd.read_sql_query(\"SELECT * FROM location\", conn)\n",
    "print locations "
   ]
  },
  {
   "cell_type": "code",
   "execution_count": 7,
   "metadata": {
    "collapsed": false
   },
   "outputs": [
    {
     "name": "stdout",
     "output_type": "stream",
     "text": [
      "[(52.66,), (52.86,), (54.28,), (53.42,), (52.34,), (53.22,), (52.36,), (52.84,), (53.18,), (53.66,)]\n"
     ]
    }
   ],
   "source": [
    "list_location_long=[]\n",
    "c = conn.cursor()\n",
    "for i in c.execute(\"SELECT long FROM location;\"):\n",
    "    list_location_long.append(i)\n",
    "    \n",
    "print list_location_long"
   ]
  },
  {
   "cell_type": "code",
   "execution_count": 47,
   "metadata": {
    "collapsed": false
   },
   "outputs": [
    {
     "name": "stdout",
     "output_type": "stream",
     "text": [
      "[(259696.0,), (89499.0,), (271650.0,), (87606.0,), (298978.0,), (200068.0,), (60573.0,), (159794.0,), (163358.0,), (210817.0,)]\n"
     ]
    }
   ],
   "source": [
    "list_location_production=[]\n",
    "h = c.execute(\"SELECT production FROM location\")\n",
    "for i in h:\n",
    "    list_location_production.append(i)\n",
    "print list_location_production\n",
    "    \n",
    "    \n",
    "                "
   ]
  },
  {
   "cell_type": "code",
   "execution_count": 11,
   "metadata": {
    "collapsed": false
   },
   "outputs": [
    {
     "name": "stdout",
     "output_type": "stream",
     "text": [
      "[(7.26,), (8.99,), (8.48,), (7.95,), (6.48,), (6.68,), (7.71,), (6.92,), (6.8,), (6.69,)]\n"
     ]
    }
   ],
   "source": [
    "list_location_lat=[]\n",
    "for i in c.execute(\"SELECT lat FROM location;\"):\n",
    "    list_location_lat.append(i)\n",
    "print list_location_lat"
   ]
  },
  {
   "cell_type": "code",
   "execution_count": 12,
   "metadata": {
    "collapsed": false
   },
   "outputs": [
    {
     "name": "stdout",
     "output_type": "stream",
     "text": [
      "    long   lat\n",
      "0  52.70  8.63\n",
      "1  53.33  6.25\n",
      "2  52.27  6.39\n"
     ]
    }
   ],
   "source": [
    "ports = pd.read_sql_query(\"SELECT * FROM ports\", conn)\n",
    "print ports"
   ]
  },
  {
   "cell_type": "code",
   "execution_count": 13,
   "metadata": {
    "collapsed": false
   },
   "outputs": [
    {
     "name": "stdout",
     "output_type": "stream",
     "text": [
      "[(52.7,), (53.33,), (52.27,)]\n"
     ]
    }
   ],
   "source": [
    "list_port_long=[]\n",
    "for i in c.execute(\"SELECT long FROM ports\"):\n",
    "    list_port_long.append(i)\n",
    "print list_port_long"
   ]
  },
  {
   "cell_type": "code",
   "execution_count": 15,
   "metadata": {
    "collapsed": false
   },
   "outputs": [
    {
     "name": "stdout",
     "output_type": "stream",
     "text": [
      "[(8.63,), (6.25,), (6.39,)]\n"
     ]
    }
   ],
   "source": [
    "list_port_lat=[]\n",
    "for i in c.execute(\"SELECT lat FROM ports\"):\n",
    "    list_port_lat.append(i)\n",
    "print list_port_lat"
   ]
  },
  {
   "cell_type": "code",
   "execution_count": 53,
   "metadata": {
    "collapsed": false,
    "scrolled": true
   },
   "outputs": [
    {
     "name": "stdout",
     "output_type": "stream",
     "text": [
      "[6492.4, 2237.475, 6791.25, 2190.15, 7474.45, 5001.7, 1514.325, 3994.85, 4083.95, 5270.425]\n"
     ]
    }
   ],
   "source": [
    "list_location_production1=[259696.0, 89499.0, 271650.0, 87606.0, 298978.0, 200068.0, 60573.0, 159794.0, 163358.0,210817.0]\n",
    "trips=[]\n",
    "for i in list_location_production1:\n",
    "    result = i/40\n",
    "    trips.append(result)\n",
    "print trips"
   ]
  },
  {
   "cell_type": "code",
   "execution_count": null,
   "metadata": {
    "collapsed": true
   },
   "outputs": [],
   "source": []
  }
 ],
 "metadata": {
  "kernelspec": {
   "display_name": "Python 2",
   "language": "python",
   "name": "python2"
  },
  "language_info": {
   "codemirror_mode": {
    "name": "ipython",
    "version": 2
   },
   "file_extension": ".py",
   "mimetype": "text/x-python",
   "name": "python",
   "nbconvert_exporter": "python",
   "pygments_lexer": "ipython2",
   "version": "2.7.10"
  }
 },
 "nbformat": 4,
 "nbformat_minor": 0
}
