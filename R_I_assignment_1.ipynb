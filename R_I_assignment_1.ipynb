{
 "cells": [
  {
   "cell_type": "code",
   "execution_count": 1,
   "metadata": {
    "collapsed": true
   },
   "outputs": [],
   "source": [
    "import sqlite3"
   ]
  },
  {
   "cell_type": "code",
   "execution_count": 2,
   "metadata": {
    "collapsed": false
   },
   "outputs": [
    {
     "data": {
      "text/plain": [
       "u'C:\\\\Users\\\\darragh\\\\Documents\\\\Python workings'"
      ]
     },
     "execution_count": 2,
     "metadata": {},
     "output_type": "execute_result"
    }
   ],
   "source": [
    "pwd\n"
   ]
  },
  {
   "cell_type": "code",
   "execution_count": 3,
   "metadata": {
    "collapsed": false
   },
   "outputs": [
    {
     "name": "stdout",
     "output_type": "stream",
     "text": [
      "    long   lat  production trips  trip\n",
      "0  52.66  7.26      259696  None  None\n",
      "1  52.86  8.99       89499  None  None\n",
      "2  54.28  8.48      271650  None  None\n",
      "3  53.42  7.95       87606  None  None\n",
      "4  52.34  6.48      298978  None  None\n",
      "5  53.22  6.68      200068  None  None\n",
      "6  52.36  7.71       60573  None  None\n",
      "7  52.84  6.92      159794  None  None\n",
      "8  53.18  6.80      163358  None  None\n",
      "9  53.66  6.69      210817  None  None\n"
     ]
    }
   ],
   "source": [
    "conn = sqlite3.connect('renewable.db')# creates connection \n",
    "import pandas as pd \n",
    "locations = pd.read_sql_query(\"SELECT * FROM location\", conn)\n",
    "print locations "
   ]
  },
  {
   "cell_type": "code",
   "execution_count": 7,
   "metadata": {
    "collapsed": false
   },
   "outputs": [
    {
     "name": "stdout",
     "output_type": "stream",
     "text": [
      "[(52.66,), (52.86,), (54.28,), (53.42,), (52.34,), (53.22,), (52.36,), (52.84,), (53.18,), (53.66,)]\n"
     ]
    }
   ],
   "source": [
    "list_location_long=[]\n",
    "c = conn.cursor()\n",
    "for i in c.execute(\"SELECT long FROM location;\"):\n",
    "    list_location_long.append(i)\n",
    "    \n",
    "print list_location_long"
   ]
  },
  {
   "cell_type": "code",
   "execution_count": 47,
   "metadata": {
    "collapsed": false
   },
   "outputs": [
    {
     "name": "stdout",
     "output_type": "stream",
     "text": [
      "[(259696.0,), (89499.0,), (271650.0,), (87606.0,), (298978.0,), (200068.0,), (60573.0,), (159794.0,), (163358.0,), (210817.0,)]\n"
     ]
    }
   ],
   "source": [
    "list_location_production=[]\n",
    "h = c.execute(\"SELECT production FROM location\")\n",
    "for i in h:\n",
    "    list_location_production.append(i)\n",
    "print list_location_production\n",
    "    \n",
    "    \n",
    "                "
   ]
  },
  {
   "cell_type": "code",
   "execution_count": 11,
   "metadata": {
    "collapsed": false
   },
   "outputs": [
    {
     "name": "stdout",
     "output_type": "stream",
     "text": [
      "[(7.26,), (8.99,), (8.48,), (7.95,), (6.48,), (6.68,), (7.71,), (6.92,), (6.8,), (6.69,)]\n"
     ]
    }
   ],
   "source": [
    "list_location_lat=[]\n",
    "for i in c.execute(\"SELECT lat FROM location;\"):\n",
    "    list_location_lat.append(i)\n",
    "print list_location_lat"
   ]
  },
  {
   "cell_type": "code",
   "execution_count": 12,
   "metadata": {
    "collapsed": false
   },
   "outputs": [
    {
     "name": "stdout",
     "output_type": "stream",
     "text": [
      "    long   lat\n",
      "0  52.70  8.63\n",
      "1  53.33  6.25\n",
      "2  52.27  6.39\n"
     ]
    }
   ],
   "source": [
    "ports = pd.read_sql_query(\"SELECT * FROM ports\", conn)\n",
    "print ports"
   ]
  },
  {
   "cell_type": "code",
   "execution_count": 13,
   "metadata": {
    "collapsed": false
   },
   "outputs": [
    {
     "name": "stdout",
     "output_type": "stream",
     "text": [
      "[(52.7,), (53.33,), (52.27,)]\n"
     ]
    }
   ],
   "source": [
    "list_port_long=[]\n",
    "for i in c.execute(\"SELECT long FROM ports\"):\n",
    "    list_port_long.append(i)\n",
    "print list_port_long"
   ]
  },
  {
   "cell_type": "code",
   "execution_count": 15,
   "metadata": {
    "collapsed": false
   },
   "outputs": [
    {
     "name": "stdout",
     "output_type": "stream",
     "text": [
      "[(8.63,), (6.25,), (6.39,)]\n"
     ]
    }
   ],
   "source": [
    "list_port_lat=[]\n",
    "for i in c.execute(\"SELECT lat FROM ports\"):\n",
    "    list_port_lat.append(i)\n",
    "print list_port_lat"
   ]
  },
  {
   "cell_type": "code",
   "execution_count": 53,
   "metadata": {
    "collapsed": false,
    "scrolled": true
   },
   "outputs": [
    {
     "name": "stdout",
     "output_type": "stream",
     "text": [
      "[6492.4, 2237.475, 6791.25, 2190.15, 7474.45, 5001.7, 1514.325, 3994.85, 4083.95, 5270.425]\n"
     ]
    }
   ],
   "source": [
    "list_location_production1=[259696.0, 89499.0, 271650.0, 87606.0, 298978.0, 200068.0, 60573.0, 159794.0, 163358.0,210817.0]\n",
    "trips=[]\n",
    "for i in list_location_production1:\n",
    "    result = i/40\n",
    "    trips.append(result)\n",
    "print trips"
   ]
  },
  {
   "cell_type": "code",
   "execution_count": 54,
   "metadata": {
    "collapsed": false
   },
   "outputs": [
    {
     "name": "stdout",
     "output_type": "stream",
     "text": [
      "\n",
      "\n"
     ]
    }
   ],
   "source": [
    "from math import radians, cos, sin, asin, sqrt\n",
    "\n",
    "def length_km(lon1, lat1, lon2, lat2): #calculates the distance of two geographical points .\n",
    "    \n",
    "     \n",
    "    lon1, lat1, lon2, lat2 = map(radians, [lon1, lat1, lon2, lat2]) #convert decimal degrees to radians \n",
    "    # haversine formula \n",
    "    dlon = lon2 - lon1 #difference in longitudes\n",
    "    dlat = lat2 - lat1 #difference in latitude\n",
    "    a = sin(dlat/2)**2 + cos(lat1) * cos(lat2) * sin(dlon/2)**2\n",
    "    c = 2 * asin(sqrt(a)) \n",
    "    km = 6367 * c\n",
    "    return \"%0.2lf\" % km\n",
    "\n",
    "print \"\\n\""
   ]
  },
  {
   "cell_type": "code",
   "execution_count": 55,
   "metadata": {
    "collapsed": false
   },
   "outputs": [
    {
     "name": "stdout",
     "output_type": "stream",
     "text": [
      "193.50\n"
     ]
    }
   ],
   "source": [
    "print length_km(52.66,7.26,52.86,8.99)"
   ]
  },
  {
   "cell_type": "code",
   "execution_count": null,
   "metadata": {
    "collapsed": true
   },
   "outputs": [],
   "source": [
    "\n",
    "x1= []\n",
    "x2 = []\n",
    "x3 = []\n",
    "x4 = []\n",
    "x5 = []\n",
    "x6 = []\n",
    "x7 = []\n",
    "x8 = []\n",
    "x9 = []\n",
    "x10 = []\n",
    "    \n",
    "for i in range(0,len(list_long)):\n",
    "     if i != 0:\n",
    "         x1.append(haversine(list_long[0],list_lat[0],list_long[i],list_lat[i]))\n",
    "for i in range(0,len(list_long)):\n",
    "    \n",
    "if i != 1:\n",
    " x2.append(haversine(list_long[1],list_lat[1],list_long[i],list_lat[i]))\n",
    " print x1\n",
    " print \"\\n\"\n",
    " print x2\n",
    " print \"\\n\"\n",
    " for i in range(0,len(list_long)):\n",
    " if i != 2:\n",
    " x3.append(haversine(list_long[2],list_lat[2],list_long[i],list_lat[i]))\n",
    " print x3\n",
    " print \"\\n\"\n",
    " for i in range(0,len(list_long)):\n",
    " if i != 3:\n",
    " x4.append(haversine(list_long[3],list_lat[3],list_long[i],list_lat[i]))\n",
    " print x4\n",
    " print \"\\n\"\n",
    " for i in range(0,len(list_long)):\n",
    " if i != 4:\n",
    " x5.append(haversine(list_long[4],list_lat[4],list_long[i],list_lat[i]))\n",
    " print x5\n",
    " print \"\\n\"\n",
    " for i in range(0,len(list_long)):\n",
    " if i != 5:\n",
    " x6.append(haversine(list_long[5],list_lat[5],list_long[i],list_lat[i]))\n",
    " print x6\n",
    " print \"\\n\"\n",
    " for i in range(0,len(list_long)):\n",
    " if i != 6:\n",
    " x7.append(haversine(list_long[6],list_lat[6],list_long[i],list_lat[i]))\n",
    " print x7\n",
    " print \"\\n\"\n",
    " for i in range(0,len(list_long)):\n",
    " if i != 7:\n",
    " x8.append(haversine(list_long[7],list_lat[7],list_long[i],list_lat[i]))\n",
    " print x8\n",
    " print \"\\n\"\n",
    " for i in range(0,len(list_long)):\n",
    " if i != 8:\n",
    " x9.append(haversine(list_long[8],list_lat[8],list_long[i],list_lat[i]))\n",
    " print x9\n",
    " print \"\\n\"\n",
    " for i in range(0,len(list_long)):\n",
    " if i != 9:\n",
    " x10.append(haversine(list_long[9],list_lat[9],list_long[i],list_lat[i]))\n",
    " print x10\n",
    "\n",
    "def totaldistancesum(x1):\n",
    " count = 0.0\n",
    " for i in x1:\n",
    " count += float(i)\n",
    " return count\n",
    "\n",
    "print totaldistancesum(x1)\n",
    " print totaldistancesum(x2)\n",
    " print totaldistancesum(x3)\n",
    " print totaldistancesum(x4)\n",
    " print totaldistancesum(x5)\n",
    " print totaldistancesum(x6)\n",
    " print totaldistancesum(x7)\n",
    " print totaldistancesum(x8)\n",
    " print totaldistancesum(x9)\n",
    " print totaldistancesum(x10)\n"
   ]
  },
  {
   "cell_type": "code",
   "execution_count": 57,
   "metadata": {
    "collapsed": true
   },
   "outputs": [],
   "source": [
    "list_location_long=[52.66,52.86, 54.28, 53.42, 52.34, 53.22, 52.36, 52.84, 53.18, 53.66]\n",
    "list_location_lat=[7.26, 8.99, 8.48, 7.95, 6.48, 6.68, 7.71, 6.92, 6.8, 6.69]\n",
    "list_port_long=[52.7,53.33,52.27]\n",
    "list_port_lat=[8.63,6.25,6.39]"
   ]
  },
  {
   "cell_type": "code",
   "execution_count": 61,
   "metadata": {
    "collapsed": false
   },
   "outputs": [
    {
     "name": "stdout",
     "output_type": "stream",
     "text": [
      "['152.31', '134.40', '105.82']\n"
     ]
    }
   ],
   "source": [
    "location_0_ports_dist=[]\n",
    "for i in range(0,3):\n",
    "        location_0_ports_dist.append(length_km(list_location_long[0],list_location_lat[0],list_port_long[i],list_port_lat[i]))\n",
    "print location_0_ports_dist"
   ]
  },
  {
   "cell_type": "code",
   "execution_count": 62,
   "metadata": {
    "collapsed": false
   },
   "outputs": [
    {
     "name": "stdout",
     "output_type": "stream",
     "text": [
      "['43.69', '308.85', '296.14']\n"
     ]
    }
   ],
   "source": [
    "location_1_ports_dist=[]\n",
    "for i in range(0,3):\n",
    "        location_1_ports_dist.append(length_km(list_location_long[1],list_location_lat[1],list_port_long[i],list_port_lat[i]))\n",
    "print location_1_ports_dist"
   ]
  },
  {
   "cell_type": "code",
   "execution_count": 63,
   "metadata": {
    "collapsed": false
   },
   "outputs": [
    {
     "name": "stdout",
     "output_type": "stream",
     "text": [
      "['174.42', '269.02', '320.92']\n"
     ]
    }
   ],
   "source": [
    "location_2_ports_dist=[]\n",
    "for i in range(0,3):\n",
    "        location_2_ports_dist.append(length_km(list_location_long[2],list_location_lat[2],list_port_long[i],list_port_lat[i]))\n",
    "print location_2_ports_dist"
   ]
  },
  {
   "cell_type": "code",
   "execution_count": 64,
   "metadata": {
    "collapsed": false
   },
   "outputs": [
    {
     "name": "stdout",
     "output_type": "stream",
     "text": [
      "['109.45', '189.17', '214.77']\n"
     ]
    }
   ],
   "source": [
    "location_3_ports_dist=[]\n",
    "for i in range(0,3):\n",
    "        location_3_ports_dist.append(length_km(list_location_long[3],list_location_lat[3],list_port_long[i],list_port_lat[i]))\n",
    "print location_3_ports_dist"
   ]
  },
  {
   "cell_type": "code",
   "execution_count": 66,
   "metadata": {
    "collapsed": false
   },
   "outputs": [
    {
     "name": "stdout",
     "output_type": "stream",
     "text": [
      "['242.19', '112.28', '12.64']\n"
     ]
    }
   ],
   "source": [
    "location_4_ports_dist=[]\n",
    "for i in range(0,3):\n",
    "        location_4_ports_dist.append(length_km(list_location_long[4],list_location_lat[4],list_port_long[i],list_port_lat[i]))\n",
    "print location_4_ports_dist"
   ]
  },
  {
   "cell_type": "code",
   "execution_count": 67,
   "metadata": {
    "collapsed": false
   },
   "outputs": [
    {
     "name": "stdout",
     "output_type": "stream",
     "text": [
      "['224.13', '49.30', '109.72']\n"
     ]
    }
   ],
   "source": [
    "location_5_ports_dist=[]\n",
    "for i in range(0,3):\n",
    "        location_5_ports_dist.append(length_km(list_location_long[5],list_location_lat[5],list_port_long[i],list_port_lat[i]))\n",
    "print location_5_ports_dist"
   ]
  },
  {
   "cell_type": "code",
   "execution_count": 68,
   "metadata": {
    "collapsed": false
   },
   "outputs": [
    {
     "name": "stdout",
     "output_type": "stream",
     "text": [
      "['108.86', '194.34', '147.02']\n"
     ]
    }
   ],
   "source": [
    "location_6_ports_dist=[]\n",
    "for i in range(0,3):\n",
    "        location_6_ports_dist.append(length_km(list_location_long[6],list_location_lat[6],list_port_long[i],list_port_lat[i]))\n",
    "print location_6_ports_dist"
   ]
  },
  {
   "cell_type": "code",
   "execution_count": 69,
   "metadata": {
    "collapsed": false
   },
   "outputs": [
    {
     "name": "stdout",
     "output_type": "stream",
     "text": [
      "['190.65', '92.03', '86.18']\n"
     ]
    }
   ],
   "source": [
    "location_7_ports_dist=[]\n",
    "for i in range(0,3):\n",
    "        location_7_ports_dist.append(length_km(list_location_long[7],list_location_lat[7],list_port_long[i],list_port_lat[i]))\n",
    "print location_7_ports_dist"
   ]
  },
  {
   "cell_type": "code",
   "execution_count": 70,
   "metadata": {
    "collapsed": false
   },
   "outputs": [
    {
     "name": "stdout",
     "output_type": "stream",
     "text": [
      "['210.12', '63.32', '110.30']\n"
     ]
    }
   ],
   "source": [
    "location_8_ports_dist=[]\n",
    "for i in range(0,3):\n",
    "        location_8_ports_dist.append(length_km(list_location_long[8],list_location_lat[8],list_port_long[i],list_port_lat[i]))\n",
    "print location_8_ports_dist"
   ]
  },
  {
   "cell_type": "code",
   "execution_count": 71,
   "metadata": {
    "collapsed": false
   },
   "outputs": [
    {
     "name": "stdout",
     "output_type": "stream",
     "text": [
      "['240.11', '60.98', '157.04']\n"
     ]
    }
   ],
   "source": [
    "location_9_ports_dist=[]\n",
    "for i in range(0,3):\n",
    "        location_9_ports_dist.append(length_km(list_location_long[9],list_location_lat[9],list_port_long[i],list_port_lat[i]))\n",
    "print location_9_ports_dist"
   ]
  },
  {
   "cell_type": "code",
   "execution_count": 76,
   "metadata": {
    "collapsed": false
   },
   "outputs": [
    {
     "name": "stdout",
     "output_type": "stream",
     "text": [
      "['193.50', '224.01', '113.52', '93.59', '89.27', '59.94', '42.68', '76.83', '127.20']\n"
     ]
    }
   ],
   "source": [
    "location_0_location=[]\n",
    "for i in range(0,10):\n",
    "    if i !=0:\n",
    "        location_0_location.append(length_km(list_location_long[0],list_location_lat[0],list_location_long[i],list_location_lat[i]))\n",
    "print location_0_location\n"
   ]
  },
  {
   "cell_type": "code",
   "execution_count": 80,
   "metadata": {
    "collapsed": false
   },
   "outputs": [
    {
     "name": "stdout",
     "output_type": "stream",
     "text": [
      "['193.50', '165.94', '130.94', '284.74', '259.74', '152.49', '230.04', '245.90', '270.33']\n"
     ]
    }
   ],
   "source": [
    "location_1_location=[]\n",
    "for i in range(0,10):\n",
    "    if i !=1:\n",
    "        location_1_location.append(length_km(list_location_long[1],list_location_lat[1],list_location_long[i],list_location_lat[i]))\n",
    "print location_1_location"
   ]
  },
  {
   "cell_type": "code",
   "execution_count": 81,
   "metadata": {
    "collapsed": false
   },
   "outputs": [
    {
     "name": "stdout",
     "output_type": "stream",
     "text": [
      "['224.01', '165.94', '111.42', '308.35', '231.61', '227.91', '234.94', '222.55', '210.31']\n"
     ]
    }
   ],
   "source": [
    "location_2_location=[]\n",
    "for i in range(0,10):\n",
    "    if i !=2:\n",
    "        location_2_location.append(length_km(list_location_long[2],list_location_lat[2],list_location_long[i],list_location_lat[i]))\n",
    "print location_2_location"
   ]
  },
  {
   "cell_type": "code",
   "execution_count": 82,
   "metadata": {
    "collapsed": false
   },
   "outputs": [
    {
     "name": "stdout",
     "output_type": "stream",
     "text": [
      "['113.52', '130.94', '111.42', '202.14', '142.84', '119.70', '131.09', '130.50', '142.49']\n"
     ]
    }
   ],
   "source": [
    "location_3_location=[]\n",
    "for i in range(0,10):\n",
    "    if i !=3:\n",
    "        location_3_location.append(length_km(list_location_long[3],list_location_lat[3],list_location_long[i],list_location_lat[i]))\n",
    "print location_3_location"
   ]
  },
  {
   "cell_type": "code",
   "execution_count": 83,
   "metadata": {
    "collapsed": false
   },
   "outputs": [
    {
     "name": "stdout",
     "output_type": "stream",
     "text": [
      "['93.59', '284.74', '308.35', '202.14', '99.66', '136.70', '73.73', '99.30', '147.57']\n"
     ]
    }
   ],
   "source": [
    "location_4_location=[]\n",
    "for i in range(0,10):\n",
    "    if i !=4:\n",
    "        location_4_location.append(length_km(list_location_long[4],list_location_lat[4],list_location_long[i],list_location_lat[i]))\n",
    "print location_4_location"
   ]
  },
  {
   "cell_type": "code",
   "execution_count": 84,
   "metadata": {
    "collapsed": false
   },
   "outputs": [
    {
     "name": "stdout",
     "output_type": "stream",
     "text": [
      "['89.27', '259.74', '231.61', '142.84', '99.66', '148.63', '49.69', '14.05', '48.58']\n"
     ]
    }
   ],
   "source": [
    "location_5_location=[]\n",
    "for i in range(0,10):\n",
    "    if i !=5:\n",
    "        location_5_location.append(length_km(list_location_long[5],list_location_lat[5],list_location_long[i],list_location_lat[i]))\n",
    "print location_5_location"
   ]
  },
  {
   "cell_type": "code",
   "execution_count": 85,
   "metadata": {
    "collapsed": false
   },
   "outputs": [
    {
     "name": "stdout",
     "output_type": "stream",
     "text": [
      "['59.94', '152.49', '227.91', '119.70', '136.70', '148.63', '102.50', '135.63', '182.73']\n"
     ]
    }
   ],
   "source": [
    "location_6_location=[]\n",
    "for i in range(0,10):\n",
    "    if i !=6:\n",
    "        location_6_location.append(length_km(list_location_long[6],list_location_lat[6],list_location_long[i],list_location_lat[i]))\n",
    "print location_6_location"
   ]
  },
  {
   "cell_type": "code",
   "execution_count": 86,
   "metadata": {
    "collapsed": false
   },
   "outputs": [
    {
     "name": "stdout",
     "output_type": "stream",
     "text": [
      "['42.68', '230.04', '234.94', '131.09', '73.73', '49.69', '102.50', '39.81', '94.02']\n"
     ]
    }
   ],
   "source": [
    "location_7_location=[]\n",
    "for i in range(0,10):\n",
    "    if i !=7:\n",
    "        location_7_location.append(length_km(list_location_long[7],list_location_lat[7],list_location_long[i],list_location_lat[i]))\n",
    "print location_7_location"
   ]
  },
  {
   "cell_type": "code",
   "execution_count": 87,
   "metadata": {
    "collapsed": false
   },
   "outputs": [
    {
     "name": "stdout",
     "output_type": "stream",
     "text": [
      "['76.83', '245.90', '222.55', '130.50', '99.30', '14.05', '135.63', '39.81', '54.36']\n"
     ]
    }
   ],
   "source": [
    "location_8_location=[]\n",
    "for i in range(0,10):\n",
    "    if i !=8:\n",
    "        location_8_location.append(length_km(list_location_long[8],list_location_lat[8],list_location_long[i],list_location_lat[i]))\n",
    "print location_8_location"
   ]
  },
  {
   "cell_type": "code",
   "execution_count": 88,
   "metadata": {
    "collapsed": false
   },
   "outputs": [
    {
     "name": "stdout",
     "output_type": "stream",
     "text": [
      "['127.20', '270.33', '210.31', '142.49', '147.57', '48.58', '182.73', '94.02', '54.36']\n"
     ]
    }
   ],
   "source": [
    "location_9_location=[]\n",
    "for i in range(0,10):\n",
    "    if i !=9:\n",
    "        location_9_location.append(length_km(list_location_long[9],list_location_lat[9],list_location_long[i],list_location_lat[i]))\n",
    "print location_9_location"
   ]
  },
  {
   "cell_type": "code",
   "execution_count": null,
   "metadata": {
    "collapsed": true
   },
   "outputs": [],
   "source": [
    "dist_location_0 ={1,2,3,4,5,6,7,8,9}\n",
    "for "
   ]
  }
 ],
 "metadata": {
  "kernelspec": {
   "display_name": "Python 2",
   "language": "python",
   "name": "python2"
  },
  "language_info": {
   "codemirror_mode": {
    "name": "ipython",
    "version": 2
   },
   "file_extension": ".py",
   "mimetype": "text/x-python",
   "name": "python",
   "nbconvert_exporter": "python",
   "pygments_lexer": "ipython2",
   "version": "2.7.10"
  }
 },
 "nbformat": 4,
 "nbformat_minor": 0
}
